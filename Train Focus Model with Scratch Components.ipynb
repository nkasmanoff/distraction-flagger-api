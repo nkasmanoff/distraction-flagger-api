{
 "cells": [
  {
   "cell_type": "markdown",
   "metadata": {},
   "source": [
    "Vercel has a limit on the memory on the server. The bottleneck for me is sklearn. So to go around this, I'm creating from-scratch implementations of TFIDF and linear regression :-)"
   ]
  },
  {
   "cell_type": "code",
   "execution_count": 1,
   "metadata": {},
   "outputs": [],
   "source": [
    "import pandas as pd\n",
    "import numpy as np\n",
    "# can still use the evaluation stuff for now haha\n",
    "from sklearn.metrics import confusion_matrix, classification_report, accuracy_score\n",
    "import pickle"
   ]
  },
  {
   "cell_type": "code",
   "execution_count": 2,
   "metadata": {},
   "outputs": [
    {
     "data": {
      "text/plain": [
       "<AxesSubplot:ylabel='Frequency'>"
      ]
     },
     "execution_count": 2,
     "metadata": {},
     "output_type": "execute_result"
    },
    {
     "data": {
      "image/png": "[encoded data removed]",
      "text/plain": [
       "<Figure size 432x288 with 1 Axes>"
      ]
     },
     "metadata": {
      "needs_background": "light"
     },
     "output_type": "display_data"
    }
   ],
   "source": [
    "\n",
    "# load the dataset\n",
    "df = pd.read_excel('Tabs Dataset.xlsx', sheet_name='Sheet2')\n",
    "\n",
    "df['tab_name'] = df['url_and_tab_name'].apply(lambda x: x.split(' | ')[1])\n",
    "df['on_topic'].fillna(0, inplace=True)\n",
    "df['on_topic'].plot.hist()"
   ]
  },
  {
   "cell_type": "markdown",
   "metadata": {},
   "source": [
    "This is a pretty imbalanced problem! I am not focusing much :-)"
   ]
  },
  {
   "cell_type": "code",
   "execution_count": 3,
   "metadata": {},
   "outputs": [],
   "source": [
    "# Now for the from scratch implementation. I would not advice copilot or chatgpt here as it\n",
    "# defeats the point, and they are also not perfect!\n",
    "\n",
    "# Instead, follow tutorials like https://www.kaggle.com/code/yassinehamdaoui1/creating-tf-idf-model-from-scratch\n",
    "\n",
    "class TFIDF:\n",
    "    def __init__(self):\n",
    "        self.documents = None\n",
    "        self.vocab = None\n",
    "        self.idf = None\n",
    "        self.tf = None\n",
    "        self.tfidf = None\n",
    "\n",
    "    def fit(self, documents):\n",
    "        self.documents = documents\n",
    "        self.vocab = list(set([word for doc in documents for word in doc.split()]))\n",
    "        self.idf = np.zeros(len(self.vocab))\n",
    "        self.tf = np.zeros((len(self.documents), len(self.vocab)))\n",
    "        self.tfidf = np.zeros((len(self.documents), len(self.vocab)))\n",
    "        for i, doc in enumerate(self.documents):\n",
    "            for j, word in enumerate(self.vocab):\n",
    "                self.tf[i, j] = doc.split().count(word) / len(doc.split())\n",
    "                if self.tf[i, j] > 0:\n",
    "                    self.idf[j] += 1\n",
    "        self.idf = np.log(len(self.documents) / self.idf)\n",
    "        self.tfidf = self.tf * self.idf\n",
    "    \n",
    "    def transform(self, documents):\n",
    "        tfidf = np.zeros((len(documents), len(self.vocab)))\n",
    "        for i, doc in enumerate(documents):\n",
    "            for j, word in enumerate(self.vocab):\n",
    "                tfidf[i, j] = doc.split().count(word) / len(doc.split()) * self.idf[j]\n",
    "        return tfidf\n",
    "    \n",
    "    def fit_transform(self, documents):\n",
    "        self.fit(documents)\n",
    "        return self.tfidf\n",
    "    \n",
    "    def save_model(self, path):\n",
    "        with open(path, 'wb') as f:\n",
    "            pickle.dump(self, f)\n",
    "        \n",
    "    def load_model(self, path):\n",
    "        with open(path, 'rb') as f:\n",
    "            self = pickle.load(f)\n",
    "        return self\n",
    "    "
   ]
  },
  {
   "cell_type": "code",
   "execution_count": 4,
   "metadata": {},
   "outputs": [],
   "source": [
    "\n",
    "# test the data\n",
    "tfidf = TFIDF()\n",
    "tfidf.fit(df['tab_name'].values)\n",
    "\n",
    "tfidf.save_model('api/storage/tfidf.pkl')\n",
    "tfidf = TFIDF()\n",
    "\n",
    "tfidf = tfidf.load_model('api/storage/tfidf.pkl')\n",
    "\n",
    "X = tfidf.transform(df['tab_name'].values)\n"
   ]
  },
  {
   "cell_type": "markdown",
   "metadata": {},
   "source": [
    "This worked, but as we can see, it leaves many more columns than data points in an already unbalanced dataset! \n",
    "\n",
    "To resolve, let's use L1 regularization on top of logistic regression.\n",
    "\n",
    "Alternatively, we can use feature engineering to further refine the word counting above to only include alphabetic characters, try different tokenizers, etc."
   ]
  },
  {
   "cell_type": "code",
   "execution_count": 5,
   "metadata": {},
   "outputs": [],
   "source": [
    "\n",
    "\n",
    "\n",
    "class LogisticRegression:\n",
    "    \n",
    "    def __init__(self, learning_rate=0.01, n_iters=5000):\n",
    "        self.learning_rate = learning_rate\n",
    "        self.n_iters = n_iters\n",
    "        self.weights = None\n",
    "        self.bias = None\n",
    "        \n",
    "    def fit(self, X, y):\n",
    "        # initialize weights and bias to zeros\n",
    "        n_samples, n_features = X.shape\n",
    "        self.weights = np.zeros(n_features)\n",
    "        self.bias = 0\n",
    "        \n",
    "        # gradient descent optimization\n",
    "        for i in range(self.n_iters):\n",
    "            # calculate predicted probabilities and cost\n",
    "            z = np.dot(X, self.weights) + self.bias\n",
    "            y_pred = self._sigmoid(z)\n",
    "            cost = (-1 / n_samples) * np.sum(y * np.log(y_pred) + (1 - y) * np.log(1 - y_pred))\n",
    "            \n",
    "            # calculate gradients\n",
    "            dw = (1 / n_samples) * np.dot(X.T, (y_pred - y))            \n",
    "            db = (1 / n_samples) * np.sum(y_pred - y)\n",
    "            \n",
    "            # update weights and bias\n",
    "            self.weights -= self.learning_rate * dw\n",
    "            self.bias -= self.learning_rate * db\n",
    "            \n",
    "    def predict(self, X,probabilities=False):\n",
    "        # calculate predicted probabilities\n",
    "        z = np.dot(X, self.weights) + self.bias\n",
    "        y_pred = self._sigmoid(z)\n",
    "        if probabilities:\n",
    "            return y_pred\n",
    "        \n",
    "        # convert probabilities to binary predictions\n",
    "        return np.round(y_pred).astype(int)\n",
    "\n",
    "    def _sigmoid(self, z):\n",
    "        return 1 / (1 + np.exp(-z))\n",
    "    \n",
    "    def save_model(self, path):\n",
    "        with open(path, 'wb') as f:\n",
    "            pickle.dump(self, f)\n",
    "\n",
    "    def load_model(self, path):\n",
    "        with open(path, 'rb') as f:\n",
    "            self = pickle.load(f)\n",
    "        return self\n",
    "    \n",
    "\n"
   ]
  },
  {
   "cell_type": "code",
   "execution_count": 6,
   "metadata": {},
   "outputs": [],
   "source": [
    "\n",
    "# initialize logistic regression model\n",
    "lr = LogisticRegression()\n",
    "y = df['on_topic'].values\n",
    "# train model on sample dataset\n",
    "lr.fit(X, y)\n"
   ]
  },
  {
   "cell_type": "code",
   "execution_count": 7,
   "metadata": {},
   "outputs": [],
   "source": [
    "predictions = lr.predict(X,probabilities=True)\n",
    "\n"
   ]
  },
  {
   "cell_type": "code",
   "execution_count": 8,
   "metadata": {},
   "outputs": [
    {
     "data": {
      "text/plain": [
       "(0.0, 1.0)"
      ]
     },
     "execution_count": 8,
     "metadata": {},
     "output_type": "execute_result"
    },
    {
     "data": {
      "image/png": "[encoded data removed]",
      "text/plain": [
       "<Figure size 720x720 with 1 Axes>"
      ]
     },
     "metadata": {
      "needs_background": "light"
     },
     "output_type": "display_data"
    }
   ],
   "source": [
    "# plot auc of predictions \n",
    "from sklearn.metrics import roc_curve, auc\n",
    "import matplotlib.pyplot as plt\n",
    "%matplotlib inline\n",
    "\n",
    "fpr, tpr, thresholds = roc_curve(y, predictions)\n",
    "\n",
    "roc_auc = auc(fpr, tpr)\n",
    "\n",
    "plt.figure(figsize=(10,10))\n",
    "plt.title('Receiver Operating Characteristic')\n",
    "plt.plot(fpr, tpr, 'b', label = 'AUC = %0.2f' % roc_auc,linewidth=3)\n",
    "plt.legend(loc = 'lower right',fontsize=20)\n",
    "plt.plot([0, 1], [0, 1],'r--',linewidth=3)\n",
    "plt.xlim([0, 1])\n",
    "plt.ylim([0, 1])\n"
   ]
  },
  {
   "cell_type": "markdown",
   "metadata": {},
   "source": [
    "Before we get too thrilled with this result, two important caveats:\n",
    "\n",
    "1. This is training data! The model is overfitting and this is not especially impressive.\n",
    "2. This dataset is highly imbalanced. As a result, AUC is no longer a great metric, seeing as most of this data is class 0 to begin with. \n",
    "\n",
    "\n",
    "Regardless, I'm pushing ahead. The result above indicates to me that a threshold <0.5 will be best, and my judgement says that in order to keep somewhat lax, I'll make the threshold especially low, to be .1. By doing this we'll now see some predictions below, and the model will be somewhat capable of predicting if a tab title is \"relevant\" or not. "
   ]
  },
  {
   "cell_type": "code",
   "execution_count": 9,
   "metadata": {},
   "outputs": [
    {
     "name": "stdout",
     "output_type": "stream",
     "text": [
      "Precision: 0.333 / Recall: 1.0\n",
      "Accuracy: 0.684\n"
     ]
    }
   ],
   "source": [
    "thresh = 0.15\n",
    "from sklearn.metrics import precision_score, recall_score\n",
    "predictions = [1 if x > thresh else 0 for x in predictions]\n",
    "precision = precision_score(y, predictions)\n",
    "recall = recall_score(y, predictions)\n",
    "\n",
    "print('Precision: {} / Recall: {}'.format(round(precision, 3), round(recall, 3)))\n",
    "\n",
    "accuracy = accuracy_score(y, predictions)\n",
    "print('Accuracy: {}'.format(round(accuracy, 3)))\n",
    "\n",
    "df['predictions'] = predictions"
   ]
  },
  {
   "cell_type": "code",
   "execution_count": null,
   "metadata": {},
   "outputs": [],
   "source": [
    "df[df['predictions'] == 1].sample(n=3)"
   ]
  },
  {
   "cell_type": "markdown",
   "metadata": {},
   "source": [
    "All of these predictions look about right! If these were the tabs I was on, I'd be happy and think I was doing productive work. \n",
    "\n",
    "How about the alternative?"
   ]
  },
  {
   "cell_type": "code",
   "execution_count": null,
   "metadata": {},
   "outputs": [],
   "source": [
    "df[df['predictions'] == 0].sample(n=3)"
   ]
  },
  {
   "cell_type": "markdown",
   "metadata": {},
   "source": [
    "Again, about same. Not as many of these pages are productive."
   ]
  },
  {
   "cell_type": "markdown",
   "metadata": {},
   "source": [
    "Lastly, we save the model and confirm it retains the weights & biases used in training."
   ]
  },
  {
   "cell_type": "code",
   "execution_count": 10,
   "metadata": {},
   "outputs": [],
   "source": [
    "init_weights = lr.weights\n",
    "\n",
    "# save model \n",
    "\n",
    "lr.save_model('api/storage/model.pkl')\n",
    "lr = LogisticRegression()\n",
    "\n",
    "lr = lr.load_model('api/storage/model.pkl')\n",
    "\n",
    "assert np.allclose(init_weights, lr.weights)\n",
    "\n"
   ]
  },
  {
   "cell_type": "code",
   "execution_count": 12,
   "metadata": {},
   "outputs": [
    {
     "data": {
      "text/plain": [
       "array([0.1868542])"
      ]
     },
     "execution_count": 12,
     "metadata": {},
     "output_type": "execute_result"
    }
   ],
   "source": [
    "lr.predict(tfidf.transform(['how to be a better data scientist']),probabilities=True)\n",
    "\n",
    "# this is on topic! Good!"
   ]
  },
  {
   "cell_type": "code",
   "execution_count": null,
   "metadata": {},
   "outputs": [],
   "source": []
  }
 ],
 "metadata": {
  "kernelspec": {
   "display_name": "langchain",
   "language": "python",
   "name": "python3"
  },
  "language_info": {
   "codemirror_mode": {
    "name": "ipython",
    "version": 3
   },
   "file_extension": ".py",
   "mimetype": "text/x-python",
   "name": "python",
   "nbconvert_exporter": "python",
   "pygments_lexer": "ipython3",
   "version": "3.8.5"
  }
 },
 "nbformat": 4,
 "nbformat_minor": 2
}
