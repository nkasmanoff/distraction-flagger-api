{
 "cells": [
  {
   "cell_type": "markdown",
   "metadata": {},
   "source": [
    "Vercel has a limit on the memory on the server. The bottleneck for me is sklearn. So to go around this, I'm creating from-scratch implementations of TFIDF and linear regression :-)"
   ]
  },
  {
   "cell_type": "code",
   "execution_count": 1,
   "metadata": {},
   "outputs": [],
   "source": [
    "import pandas as pd\n",
    "import numpy as np\n",
    "# can still use the evaluation stuff for now haha\n",
    "from sklearn.metrics import confusion_matrix, classification_report, accuracy_score\n",
    "import pickle"
   ]
  },
  {
   "cell_type": "code",
   "execution_count": 2,
   "metadata": {},
   "outputs": [
    {
     "data": {
      "text/plain": [
       "<AxesSubplot:ylabel='Frequency'>"
      ]
     },
     "execution_count": 2,
     "metadata": {},
     "output_type": "execute_result"
    },
    {
     "data": {
      "image/png": "[encoded data removed]",
      "text/plain": [
       "<Figure size 432x288 with 1 Axes>"
      ]
     },
     "metadata": {
      "needs_background": "light"
     },
     "output_type": "display_data"
    }
   ],
   "source": [
    "\n",
    "# load the dataset\n",
    "df = pd.read_excel('Tabs Dataset.xlsx', sheet_name='Sheet2')\n",
    "\n",
    "df['tab_name'] = df['url_and_tab_name'].apply(lambda x: x.split(' | ')[1])\n",
    "df['on_topic'].fillna(0, inplace=True)\n",
    "df['on_topic'].plot.hist()"
   ]
  },
  {
   "cell_type": "markdown",
   "metadata": {},
   "source": [
    "This is a pretty imbalanced problem! I am not focusing much :-)"
   ]
  },
  {
   "cell_type": "code",
   "execution_count": 26,
   "metadata": {},
   "outputs": [],
   "source": [
    "# Now for the from scratch implementation. I would not advice copilot or chatgpt here as it\n",
    "# defeats the point, and they are also not perfect!\n",
    "\n",
    "# Instead, follow tutorials like https://www.kaggle.com/code/yassinehamdaoui1/creating-tf-idf-model-from-scratch\n",
    "\n",
    "class TFIDF:\n",
    "    def __init__(self):\n",
    "        self.documents = None\n",
    "        self.vocab = None\n",
    "        self.idf = None\n",
    "        self.tf = None\n",
    "        self.tfidf = None\n",
    "\n",
    "    def fit(self, documents):\n",
    "        self.documents = documents\n",
    "        self.vocab = list(set([word for doc in documents for word in doc.split()]))\n",
    "        self.idf = np.zeros(len(self.vocab))\n",
    "        self.tf = np.zeros((len(self.documents), len(self.vocab)))\n",
    "        self.tfidf = np.zeros((len(self.documents), len(self.vocab)))\n",
    "        for i, doc in enumerate(self.documents):\n",
    "            for j, word in enumerate(self.vocab):\n",
    "                self.tf[i, j] = doc.split().count(word) / len(doc.split())\n",
    "                if self.tf[i, j] > 0:\n",
    "                    self.idf[j] += 1\n",
    "        self.idf = np.log(len(self.documents) / self.idf)\n",
    "        self.tfidf = self.tf * self.idf\n",
    "    \n",
    "    def transform(self, documents):\n",
    "        tfidf = np.zeros((len(documents), len(self.vocab)))\n",
    "        for i, doc in enumerate(documents):\n",
    "            for j, word in enumerate(self.vocab):\n",
    "                tfidf[i, j] = doc.split().count(word) / len(doc.split()) * self.idf[j]\n",
    "        return tfidf\n",
    "    \n",
    "    def fit_transform(self, documents):\n",
    "        self.fit(documents)\n",
    "        return self.tfidf\n",
    "    \n",
    "\n",
    "# test the data\n",
    "tfidf = TFIDF()\n",
    "tfidf.fit(df['tab_name'].values)\n",
    "X = tfidf.transform(df['tab_name'].values)\n",
    "\n",
    "\n",
    "y = df['on_topic'].values\n",
    "\n",
    "\n",
    "\n"
   ]
  },
  {
   "cell_type": "code",
   "execution_count": 28,
   "metadata": {},
   "outputs": [
    {
     "data": {
      "text/plain": [
       "array([1., 1., 1., 1., 0., 0., 0., 1., 1., 0., 0., 0., 0., 0., 1., 0., 0.,\n",
       "       0., 1., 1., 1., 0., 0., 0., 0., 0., 0., 0., 0., 0., 0., 0., 0., 0.,\n",
       "       0., 0., 0., 0., 0., 0., 1., 1., 1., 1., 1., 1., 0., 1., 0., 0., 0.,\n",
       "       0., 0., 1., 0., 0., 1., 0., 0., 0., 0., 0., 0., 1., 0., 1., 0., 1.,\n",
       "       1., 0., 0., 0., 0., 0., 0., 0., 1., 1., 0., 0., 1., 1., 1., 0., 0.,\n",
       "       1., 1., 0., 0., 0., 1., 0., 0., 0., 0., 0., 0., 0., 0., 1., 0., 0.,\n",
       "       0., 0., 0., 0., 0., 0., 0., 0., 1., 1., 0., 0., 0., 0., 0., 1., 0.,\n",
       "       0., 1., 0., 0., 0., 0., 0., 0., 0., 1., 0., 1., 0., 0., 0., 0., 0.,\n",
       "       0., 1., 0., 0., 0., 0., 0., 0., 0., 0., 0., 0., 0., 0., 0., 1., 0.,\n",
       "       0., 0., 0., 0., 0., 0., 0., 0., 0., 0., 0., 0., 0., 0., 0., 1., 0.,\n",
       "       0., 0., 0., 0., 0., 0., 0., 0., 0., 0., 0., 0., 0., 0., 1., 0., 0.,\n",
       "       0., 0., 0., 0., 0., 0., 0., 0., 0., 1., 0., 0., 0., 0., 0., 0., 0.,\n",
       "       0., 0., 0., 0., 0., 1., 0., 0., 0., 0., 0., 0., 0., 0., 0., 0., 0.,\n",
       "       0., 1., 0., 0., 0., 0., 0., 0., 0., 0., 0., 0., 0., 0., 1., 1., 1.,\n",
       "       0., 0., 0., 0., 1., 0., 1., 0., 0., 0., 0., 0., 0., 0., 1., 1., 0.,\n",
       "       0., 0., 0., 0., 0., 0., 0., 0., 0., 0., 0., 1., 0., 0., 0., 0., 0.,\n",
       "       0., 0., 0., 0., 0., 1., 0., 0., 0., 0., 0., 1., 0., 1., 0., 0., 0.,\n",
       "       0., 0., 1., 0., 0., 0., 0., 0., 1., 0., 0., 0., 0., 0., 0., 0., 0.,\n",
       "       1., 0., 1., 0., 0., 0., 0., 0., 0., 0., 1., 0., 0., 1., 0., 0., 0.,\n",
       "       0., 0., 0., 0., 0., 0., 0., 0., 0., 0., 0., 0., 0., 0., 0., 0., 0.,\n",
       "       0., 0., 0., 0., 0., 0., 0., 0., 0., 0., 0., 0., 0., 0., 0., 0., 0.,\n",
       "       0., 0., 0., 0., 0., 0., 0., 0., 0., 0., 0., 0., 0., 0., 0., 0., 0.,\n",
       "       1., 0., 0., 0., 0., 0., 0., 0., 0., 0., 0., 0., 0., 0., 0., 0., 0.,\n",
       "       0., 0., 0., 0., 0., 0., 0., 0.])"
      ]
     },
     "execution_count": 28,
     "metadata": {},
     "output_type": "execute_result"
    }
   ],
   "source": [
    "y"
   ]
  },
  {
   "cell_type": "markdown",
   "metadata": {},
   "source": [
    "This worked, but as we can see, it leaves many more columns than data points in an already unbalanced dataset! \n",
    "\n",
    "To resolve, let's use L1 regularization on top of logistic regression.\n",
    "\n",
    "Alternatively, we can use feature engineering to further refine the word counting above to only include alphabetic characters, try different tokenizers, etc."
   ]
  },
  {
   "cell_type": "code",
   "execution_count": 63,
   "metadata": {},
   "outputs": [],
   "source": [
    "\n",
    "\n",
    "import numpy as np\n",
    "\n",
    "class LogisticRegression:\n",
    "    \n",
    "    def __init__(self, learning_rate=0.01, n_iters=10000):\n",
    "        self.learning_rate = learning_rate\n",
    "        self.n_iters = n_iters\n",
    "        self.weights = None\n",
    "        self.bias = None\n",
    "        \n",
    "    def fit(self, X, y):\n",
    "        # initialize weights and bias to zeros\n",
    "        n_samples, n_features = X.shape\n",
    "        self.weights = np.zeros(n_features)\n",
    "        self.bias = 0\n",
    "        \n",
    "        # gradient descent optimization\n",
    "        for i in range(self.n_iters):\n",
    "            # calculate predicted probabilities and cost\n",
    "            z = np.dot(X, self.weights) + self.bias\n",
    "            y_pred = self._sigmoid(z)\n",
    "            cost = (-1 / n_samples) * np.sum(y * np.log(y_pred) + (1 - y) * np.log(1 - y_pred))\n",
    "            \n",
    "            # calculate gradients\n",
    "            dw = (1 / n_samples) * np.dot(X.T, (y_pred - y))            \n",
    "            db = (1 / n_samples) * np.sum(y_pred - y)\n",
    "            \n",
    "            # update weights and bias\n",
    "            self.weights -= self.learning_rate * dw\n",
    "            self.bias -= self.learning_rate * db\n",
    "            \n",
    "    def predict(self, X,probabilities=False):\n",
    "        # calculate predicted probabilities\n",
    "        z = np.dot(X, self.weights) + self.bias\n",
    "        y_pred = self._sigmoid(z)\n",
    "        if probabilities:\n",
    "            return y_pred\n",
    "        \n",
    "        # convert probabilities to binary predictions\n",
    "        return np.round(y_pred).astype(int)\n",
    "\n",
    "    def _sigmoid(self, z):\n",
    "        return 1 / (1 + np.exp(-z))\n",
    "\n",
    "\n",
    "# initialize logistic regression model\n",
    "lr = LogisticRegression()\n",
    "\n",
    "# train model on sample dataset\n",
    "lr.fit(X, y)\n"
   ]
  },
  {
   "cell_type": "code",
   "execution_count": 64,
   "metadata": {},
   "outputs": [],
   "source": [
    "predictions = lr.predict(X,probabilities=True)\n",
    "\n"
   ]
  },
  {
   "cell_type": "code",
   "execution_count": 65,
   "metadata": {},
   "outputs": [],
   "source": [
    "thresh = .2\n",
    "predictions[predictions > thresh] = 1\n",
    "predictions[predictions <= thresh] = 0\n"
   ]
  },
  {
   "cell_type": "code",
   "execution_count": 66,
   "metadata": {},
   "outputs": [],
   "source": [
    "df['predictions'] = predictions"
   ]
  },
  {
   "cell_type": "code",
   "execution_count": 67,
   "metadata": {},
   "outputs": [
    {
     "data": {
      "text/html": [
       "<div>\n",
       "<style scoped>\n",
       "    .dataframe tbody tr th:only-of-type {\n",
       "        vertical-align: middle;\n",
       "    }\n",
       "\n",
       "    .dataframe tbody tr th {\n",
       "        vertical-align: top;\n",
       "    }\n",
       "\n",
       "    .dataframe thead th {\n",
       "        text-align: right;\n",
       "    }\n",
       "</style>\n",
       "<table border=\"1\" class=\"dataframe\">\n",
       "  <thead>\n",
       "    <tr style=\"text-align: right;\">\n",
       "      <th></th>\n",
       "      <th>url_and_tab_name</th>\n",
       "      <th>on_topic</th>\n",
       "      <th>tab_name</th>\n",
       "      <th>predictions</th>\n",
       "    </tr>\n",
       "  </thead>\n",
       "  <tbody>\n",
       "    <tr>\n",
       "      <th>1</th>\n",
       "      <td>https://huggingface.co/docs/transformers/peft ...</td>\n",
       "      <td>1.0</td>\n",
       "      <td>Load adapters with 🤗 PEFT</td>\n",
       "      <td>1.0</td>\n",
       "    </tr>\n",
       "    <tr>\n",
       "      <th>2</th>\n",
       "      <td>https://leetcode.com/problems/search-in-rotate...</td>\n",
       "      <td>1.0</td>\n",
       "      <td>LeetCode - The World's Leading Online Programm...</td>\n",
       "      <td>1.0</td>\n",
       "    </tr>\n",
       "    <tr>\n",
       "      <th>3</th>\n",
       "      <td>https://uvadlc-notebooks.readthedocs.io/en/lat...</td>\n",
       "      <td>1.0</td>\n",
       "      <td>Guide 2: Research projects with PyTorch — UvA ...</td>\n",
       "      <td>1.0</td>\n",
       "    </tr>\n",
       "    <tr>\n",
       "      <th>7</th>\n",
       "      <td>https://phare.health/ | Phare Health</td>\n",
       "      <td>1.0</td>\n",
       "      <td>Phare Health</td>\n",
       "      <td>1.0</td>\n",
       "    </tr>\n",
       "    <tr>\n",
       "      <th>8</th>\n",
       "      <td>https://www.linkedin.com/jobs/view/3732132352/...</td>\n",
       "      <td>1.0</td>\n",
       "      <td>Machine Learning Engineer</td>\n",
       "      <td>1.0</td>\n",
       "    </tr>\n",
       "    <tr>\n",
       "      <th>...</th>\n",
       "      <td>...</td>\n",
       "      <td>...</td>\n",
       "      <td>...</td>\n",
       "      <td>...</td>\n",
       "    </tr>\n",
       "    <tr>\n",
       "      <th>316</th>\n",
       "      <td>https://chat.openai.com/ | Applying for Develo...</td>\n",
       "      <td>1.0</td>\n",
       "      <td>Applying for Development Seed</td>\n",
       "      <td>1.0</td>\n",
       "    </tr>\n",
       "    <tr>\n",
       "      <th>319</th>\n",
       "      <td>https://www.climatechange.ai/ | Climate Change...</td>\n",
       "      <td>1.0</td>\n",
       "      <td>Climate Change AI</td>\n",
       "      <td>1.0</td>\n",
       "    </tr>\n",
       "    <tr>\n",
       "      <th>334</th>\n",
       "      <td>https://arxiv.org/pdf/2306.17271.pdf | Disaste...</td>\n",
       "      <td>0.0</td>\n",
       "      <td>DisasterResponseGPT: Large Language Models for...</td>\n",
       "      <td>1.0</td>\n",
       "    </tr>\n",
       "    <tr>\n",
       "      <th>374</th>\n",
       "      <td>https://plotly.com/ | Plotly: Low-Code Data Ap...</td>\n",
       "      <td>1.0</td>\n",
       "      <td>Plotly: Low-Code Data App Development</td>\n",
       "      <td>1.0</td>\n",
       "    </tr>\n",
       "    <tr>\n",
       "      <th>391</th>\n",
       "      <td>https://www.digitalocean.com/community/tutoria...</td>\n",
       "      <td>0.0</td>\n",
       "      <td>How To Make a Web Application Using Flask in P...</td>\n",
       "      <td>1.0</td>\n",
       "    </tr>\n",
       "  </tbody>\n",
       "</table>\n",
       "<p>80 rows × 4 columns</p>\n",
       "</div>"
      ],
      "text/plain": [
       "                                      url_and_tab_name  on_topic  \\\n",
       "1    https://huggingface.co/docs/transformers/peft ...       1.0   \n",
       "2    https://leetcode.com/problems/search-in-rotate...       1.0   \n",
       "3    https://uvadlc-notebooks.readthedocs.io/en/lat...       1.0   \n",
       "7                 https://phare.health/ | Phare Health       1.0   \n",
       "8    https://www.linkedin.com/jobs/view/3732132352/...       1.0   \n",
       "..                                                 ...       ...   \n",
       "316  https://chat.openai.com/ | Applying for Develo...       1.0   \n",
       "319  https://www.climatechange.ai/ | Climate Change...       1.0   \n",
       "334  https://arxiv.org/pdf/2306.17271.pdf | Disaste...       0.0   \n",
       "374  https://plotly.com/ | Plotly: Low-Code Data Ap...       1.0   \n",
       "391  https://www.digitalocean.com/community/tutoria...       0.0   \n",
       "\n",
       "                                              tab_name  predictions  \n",
       "1                            Load adapters with 🤗 PEFT          1.0  \n",
       "2    LeetCode - The World's Leading Online Programm...          1.0  \n",
       "3    Guide 2: Research projects with PyTorch — UvA ...          1.0  \n",
       "7                                         Phare Health          1.0  \n",
       "8                            Machine Learning Engineer          1.0  \n",
       "..                                                 ...          ...  \n",
       "316                      Applying for Development Seed          1.0  \n",
       "319                                  Climate Change AI          1.0  \n",
       "334  DisasterResponseGPT: Large Language Models for...          1.0  \n",
       "374              Plotly: Low-Code Data App Development          1.0  \n",
       "391  How To Make a Web Application Using Flask in P...          1.0  \n",
       "\n",
       "[80 rows x 4 columns]"
      ]
     },
     "execution_count": 67,
     "metadata": {},
     "output_type": "execute_result"
    }
   ],
   "source": [
    "df[df['predictions'] == 1]"
   ]
  },
  {
   "cell_type": "markdown",
   "metadata": {},
   "source": [
    "That should work in production! This was scratch, transferring this over to something nice now. "
   ]
  },
  {
   "cell_type": "markdown",
   "metadata": {},
   "source": []
  }
 ],
 "metadata": {
  "kernelspec": {
   "display_name": "langchain",
   "language": "python",
   "name": "python3"
  },
  "language_info": {
   "codemirror_mode": {
    "name": "ipython",
    "version": 3
   },
   "file_extension": ".py",
   "mimetype": "text/x-python",
   "name": "python",
   "nbconvert_exporter": "python",
   "pygments_lexer": "ipython3",
   "version": "3.8.5"
  }
 },
 "nbformat": 4,
 "nbformat_minor": 2
}
