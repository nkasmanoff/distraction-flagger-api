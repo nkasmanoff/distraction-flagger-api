{
 "cells": [
  {
   "cell_type": "code",
   "execution_count": 27,
   "metadata": {},
   "outputs": [],
   "source": [
    "import pandas as pd\n",
    "\n",
    "from sklearn.model_selection import train_test_split\n",
    "from sklearn.linear_model import LogisticRegression\n",
    "from sklearn.metrics import confusion_matrix\n",
    "from sklearn.feature_extraction.text import TfidfVectorizer\n",
    "\n",
    "import pickle"
   ]
  },
  {
   "cell_type": "code",
   "execution_count": null,
   "metadata": {},
   "outputs": [],
   "source": []
  },
  {
   "cell_type": "code",
   "execution_count": 2,
   "metadata": {},
   "outputs": [],
   "source": [
    "\n",
    "# load the dataset\n",
    "df = pd.read_excel('Tabs Dataset.xlsx', sheet_name='Sheet2')\n",
    "\n",
    "df['tab_name'] = df['url_and_tab_name'].apply(lambda x: x.split(' | ')[1])\n",
    "df['on_topic'].fillna(0, inplace=True)"
   ]
  },
  {
   "cell_type": "code",
   "execution_count": 28,
   "metadata": {},
   "outputs": [
    {
     "data": {
      "text/plain": [
       "<AxesSubplot:ylabel='Frequency'>"
      ]
     },
     "execution_count": 28,
     "metadata": {},
     "output_type": "execute_result"
    },
    {
     "data": {
      "image/png": "[encoded data removed]",
      "text/plain": [
       "<Figure size 432x288 with 1 Axes>"
      ]
     },
     "metadata": {
      "needs_background": "light"
     },
     "output_type": "display_data"
    }
   ],
   "source": [
    "df['on_topic'].plot.hist()"
   ]
  },
  {
   "cell_type": "markdown",
   "metadata": {},
   "source": [
    "This is a pretty imbalanced problem! I am not focusing much :-)"
   ]
  },
  {
   "cell_type": "code",
   "execution_count": 29,
   "metadata": {},
   "outputs": [
    {
     "name": "stdout",
     "output_type": "stream",
     "text": [
      "[[65  2]\n",
      " [10  3]]\n",
      "Precision:  0.6\n",
      "Recall:  0.23076923076923078\n"
     ]
    },
    {
     "name": "stderr",
     "output_type": "stream",
     "text": [
      "/Users/noahkasmanoff/anaconda3/envs/nlp/lib/python3.8/site-packages/pandas/core/frame.py:3607: SettingWithCopyWarning: \n",
      "A value is trying to be set on a copy of a slice from a DataFrame.\n",
      "Try using .loc[row_indexer,col_indexer] = value instead\n",
      "\n",
      "See the caveats in the documentation: https://pandas.pydata.org/pandas-docs/stable/user_guide/indexing.html#returning-a-view-versus-a-copy\n",
      "  self._set_item(key, value)\n"
     ]
    }
   ],
   "source": [
    "\n",
    "# prepare the model \n",
    "\n",
    "tfidf = TfidfVectorizer(ngram_range=(1,2), stop_words='english')\n",
    "\n",
    "X = tfidf.fit_transform(df['tab_name'])\n",
    "\n",
    "y = df['on_topic'].astype(int)\n",
    "\n",
    "# split the data into train and test sets, balanced samples\n",
    "\n",
    "X_train, X_test, y_train, y_test = train_test_split(X, y, test_size=0.2,stratify=y, random_state=42)\n",
    "\n",
    "\n",
    "\n",
    "\n",
    "# train the model\n",
    "\n",
    "model = LogisticRegression(class_weight='balanced')\n",
    "\n",
    "model.fit(X_train, y_train)\n",
    "\n",
    "# make predictions\n",
    "\n",
    "y_pred = model.predict(X_test)\n",
    "\n",
    "# evaluate model with a confusion matrix, and log some example predictions\n",
    "\n",
    "# calculate precision and recall\n",
    "\n",
    "from sklearn.metrics import precision_score, recall_score\n",
    "\n",
    "precision = precision_score(y_test, y_pred)\n",
    "\n",
    "recall = recall_score(y_test, y_pred)\n",
    "\n",
    "\n",
    "print(confusion_matrix(y_test, y_pred))\n",
    "\n",
    "incorrect = y_test[y_test != y_pred]\n",
    "\n",
    "incorrect_preds = df.iloc[incorrect.index]\n",
    "\n",
    "\n",
    "incorrect_preds['prediction'] = incorrect_preds['on_topic'].apply(lambda x: 'Predicted as Off-Topic' if x == 1 else 'Predicted as On-Topic')\n",
    "\n",
    "print('Precision: ', precision)\n",
    "\n",
    "print('Recall: ', recall)\n",
    "\n",
    "\n"
   ]
  },
  {
   "cell_type": "code",
   "execution_count": 23,
   "metadata": {},
   "outputs": [
    {
     "data": {
      "text/html": [
       "<div>\n",
       "<style scoped>\n",
       "    .dataframe tbody tr th:only-of-type {\n",
       "        vertical-align: middle;\n",
       "    }\n",
       "\n",
       "    .dataframe tbody tr th {\n",
       "        vertical-align: top;\n",
       "    }\n",
       "\n",
       "    .dataframe thead th {\n",
       "        text-align: right;\n",
       "    }\n",
       "</style>\n",
       "<table border=\"1\" class=\"dataframe\">\n",
       "  <thead>\n",
       "    <tr style=\"text-align: right;\">\n",
       "      <th></th>\n",
       "      <th>url_and_tab_name</th>\n",
       "      <th>on_topic</th>\n",
       "      <th>tab_name</th>\n",
       "      <th>prediction</th>\n",
       "    </tr>\n",
       "  </thead>\n",
       "  <tbody>\n",
       "    <tr>\n",
       "      <th>251</th>\n",
       "      <td>https://jobs.lever.co/boweryfarming/2e79679f-5...</td>\n",
       "      <td>0.0</td>\n",
       "      <td>Bowery Farming - VP of Data &amp; AI</td>\n",
       "      <td>Predicted as On-Topic</td>\n",
       "    </tr>\n",
       "    <tr>\n",
       "      <th>237</th>\n",
       "      <td>https://climatepolicyradar.org/jobs | Jobs | C...</td>\n",
       "      <td>1.0</td>\n",
       "      <td>Jobs</td>\n",
       "      <td>Predicted as Off-Topic</td>\n",
       "    </tr>\n",
       "    <tr>\n",
       "      <th>232</th>\n",
       "      <td>https://www.actionnetwork.com/nba/nba-elite-10...</td>\n",
       "      <td>0.0</td>\n",
       "      <td>NBA: Ranking the 100 Best Players in the League</td>\n",
       "      <td>Predicted as On-Topic</td>\n",
       "    </tr>\n",
       "    <tr>\n",
       "      <th>335</th>\n",
       "      <td>https://twitter.com/BlancheMinerva/status/1691...</td>\n",
       "      <td>0.0</td>\n",
       "      <td>Stella Rose Biderman @ DEF CON on X: \"@delipra...</td>\n",
       "      <td>Predicted as On-Topic</td>\n",
       "    </tr>\n",
       "    <tr>\n",
       "      <th>19</th>\n",
       "      <td>https://news.ycombinator.com/item?id=37739028 ...</td>\n",
       "      <td>1.0</td>\n",
       "      <td>Ask HN: Who is hiring? (October 2023)</td>\n",
       "      <td>Predicted as Off-Topic</td>\n",
       "    </tr>\n",
       "    <tr>\n",
       "      <th>124</th>\n",
       "      <td>https://www.nbcnews.com/science/science-news/e...</td>\n",
       "      <td>0.0</td>\n",
       "      <td>Eight catastrophic floods in 11 days: What’s b...</td>\n",
       "      <td>Predicted as On-Topic</td>\n",
       "    </tr>\n",
       "    <tr>\n",
       "      <th>193</th>\n",
       "      <td>https://www.calameo.com/read/0055032800b7aed88...</td>\n",
       "      <td>0.0</td>\n",
       "      <td>Edition #001 AI for Flood Resilience, The Worl...</td>\n",
       "      <td>Predicted as On-Topic</td>\n",
       "    </tr>\n",
       "    <tr>\n",
       "      <th>103</th>\n",
       "      <td>https://docs.pytest.org/en/7.1.x/how-to/skippi...</td>\n",
       "      <td>0.0</td>\n",
       "      <td>How to use skip and xfail to deal with tests t...</td>\n",
       "      <td>Predicted as On-Topic</td>\n",
       "    </tr>\n",
       "    <tr>\n",
       "      <th>141</th>\n",
       "      <td>https://twitter.com/Thom_Wolf/status/170158773...</td>\n",
       "      <td>0.0</td>\n",
       "      <td>Thomas Wolf on X: \"Sharing a important initiat...</td>\n",
       "      <td>Predicted as On-Topic</td>\n",
       "    </tr>\n",
       "    <tr>\n",
       "      <th>184</th>\n",
       "      <td>https://drive.google.com/drive/u/0/folders/19A...</td>\n",
       "      <td>1.0</td>\n",
       "      <td>Job Search Strategizing - Google Drive</td>\n",
       "      <td>Predicted as Off-Topic</td>\n",
       "    </tr>\n",
       "    <tr>\n",
       "      <th>1</th>\n",
       "      <td>https://huggingface.co/docs/transformers/peft ...</td>\n",
       "      <td>1.0</td>\n",
       "      <td>Load adapters with 🤗 PEFT</td>\n",
       "      <td>Predicted as Off-Topic</td>\n",
       "    </tr>\n",
       "    <tr>\n",
       "      <th>151</th>\n",
       "      <td>https://www.youtube.com/watch?v=sEZsIUBIhNk&amp;li...</td>\n",
       "      <td>1.0</td>\n",
       "      <td>Engineering Systems for Real-Time Predictions ...</td>\n",
       "      <td>Predicted as Off-Topic</td>\n",
       "    </tr>\n",
       "    <tr>\n",
       "      <th>239</th>\n",
       "      <td>https://community.climatechange.ai/messages/c4...</td>\n",
       "      <td>0.0</td>\n",
       "      <td>Exploring Applications of LLMs for Climate Dis...</td>\n",
       "      <td>Predicted as On-Topic</td>\n",
       "    </tr>\n",
       "    <tr>\n",
       "      <th>277</th>\n",
       "      <td>https://drive.google.com/drive/u/0/folders/19A...</td>\n",
       "      <td>1.0</td>\n",
       "      <td>Job Search Strategizing - Google Drive</td>\n",
       "      <td>Predicted as Off-Topic</td>\n",
       "    </tr>\n",
       "    <tr>\n",
       "      <th>47</th>\n",
       "      <td>https://vercel.com/templates/python/flask-hell...</td>\n",
       "      <td>1.0</td>\n",
       "      <td>Flask Hello World – Vercel</td>\n",
       "      <td>Predicted as Off-Topic</td>\n",
       "    </tr>\n",
       "  </tbody>\n",
       "</table>\n",
       "</div>"
      ],
      "text/plain": [
       "                                      url_and_tab_name  on_topic  \\\n",
       "251  https://jobs.lever.co/boweryfarming/2e79679f-5...       0.0   \n",
       "237  https://climatepolicyradar.org/jobs | Jobs | C...       1.0   \n",
       "232  https://www.actionnetwork.com/nba/nba-elite-10...       0.0   \n",
       "335  https://twitter.com/BlancheMinerva/status/1691...       0.0   \n",
       "19   https://news.ycombinator.com/item?id=37739028 ...       1.0   \n",
       "124  https://www.nbcnews.com/science/science-news/e...       0.0   \n",
       "193  https://www.calameo.com/read/0055032800b7aed88...       0.0   \n",
       "103  https://docs.pytest.org/en/7.1.x/how-to/skippi...       0.0   \n",
       "141  https://twitter.com/Thom_Wolf/status/170158773...       0.0   \n",
       "184  https://drive.google.com/drive/u/0/folders/19A...       1.0   \n",
       "1    https://huggingface.co/docs/transformers/peft ...       1.0   \n",
       "151  https://www.youtube.com/watch?v=sEZsIUBIhNk&li...       1.0   \n",
       "239  https://community.climatechange.ai/messages/c4...       0.0   \n",
       "277  https://drive.google.com/drive/u/0/folders/19A...       1.0   \n",
       "47   https://vercel.com/templates/python/flask-hell...       1.0   \n",
       "\n",
       "                                              tab_name              prediction  \n",
       "251                   Bowery Farming - VP of Data & AI   Predicted as On-Topic  \n",
       "237                                               Jobs  Predicted as Off-Topic  \n",
       "232    NBA: Ranking the 100 Best Players in the League   Predicted as On-Topic  \n",
       "335  Stella Rose Biderman @ DEF CON on X: \"@delipra...   Predicted as On-Topic  \n",
       "19               Ask HN: Who is hiring? (October 2023)  Predicted as Off-Topic  \n",
       "124  Eight catastrophic floods in 11 days: What’s b...   Predicted as On-Topic  \n",
       "193  Edition #001 AI for Flood Resilience, The Worl...   Predicted as On-Topic  \n",
       "103  How to use skip and xfail to deal with tests t...   Predicted as On-Topic  \n",
       "141  Thomas Wolf on X: \"Sharing a important initiat...   Predicted as On-Topic  \n",
       "184             Job Search Strategizing - Google Drive  Predicted as Off-Topic  \n",
       "1                            Load adapters with 🤗 PEFT  Predicted as Off-Topic  \n",
       "151  Engineering Systems for Real-Time Predictions ...  Predicted as Off-Topic  \n",
       "239  Exploring Applications of LLMs for Climate Dis...   Predicted as On-Topic  \n",
       "277             Job Search Strategizing - Google Drive  Predicted as Off-Topic  \n",
       "47                          Flask Hello World – Vercel  Predicted as Off-Topic  "
      ]
     },
     "execution_count": 23,
     "metadata": {},
     "output_type": "execute_result"
    }
   ],
   "source": [
    "incorrect_preds"
   ]
  },
  {
   "cell_type": "markdown",
   "metadata": {},
   "source": [
    "As the current results show, this model achieves decent precision, but poor recall. This is likely due to the dataset being so imbalanced, and what it means in practice is that:\n",
    "\n",
    "high precision = when it does predict something as on topic, it is usually right\n",
    "\n",
    "low recall = not a lot of the true positives are actually classified as such. As a result, this classifier is a bit harsh, and is tending to predict most things as off topic.\n",
    "\n",
    "There's certainly more to do in if we wanted to improve this performance and better track, but seeing as this data is so low, manually annotated, and a starting point until I collect more, let's move to the in production aspect to see this end to end."
   ]
  },
  {
   "cell_type": "code",
   "execution_count": 31,
   "metadata": {},
   "outputs": [
    {
     "data": {
      "text/plain": [
       "array([0])"
      ]
     },
     "execution_count": 31,
     "metadata": {},
     "output_type": "execute_result"
    }
   ],
   "source": [
    "\n",
    "\n",
    "pickle.dump(model, open('api/focus_model.pkl', 'wb'))\n",
    "\n",
    "pickle.dump(tfidf, open('api/tfidf.pkl', 'wb'))\n",
    "\n",
    "\n",
    "# load model and vectorizer\n",
    "\n",
    "model = pickle.load(open('api/focus_model.pkl', 'rb'))\n",
    "\n",
    "tfidf = pickle.load(open('api/tfidf.pkl', 'rb'))\n",
    "\n",
    "# make predictions\n",
    "\n",
    "model.predict(tfidf.transform(['How to make a website']))\n",
    "\n",
    "\n",
    "\n"
   ]
  },
  {
   "cell_type": "code",
   "execution_count": null,
   "metadata": {},
   "outputs": [],
   "source": []
  }
 ],
 "metadata": {
  "kernelspec": {
   "display_name": "langchain",
   "language": "python",
   "name": "python3"
  },
  "language_info": {
   "codemirror_mode": {
    "name": "ipython",
    "version": 3
   },
   "file_extension": ".py",
   "mimetype": "text/x-python",
   "name": "python",
   "nbconvert_exporter": "python",
   "pygments_lexer": "ipython3",
   "version": "3.8.5"
  }
 },
 "nbformat": 4,
 "nbformat_minor": 2
}
